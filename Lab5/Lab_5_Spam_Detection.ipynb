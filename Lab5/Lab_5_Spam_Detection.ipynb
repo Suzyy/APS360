{
  "nbformat": 4,
  "nbformat_minor": 0,
  "metadata": {
    "colab": {
      "name": "Lab_5_Spam_Detection.ipynb",
      "provenance": [],
      "collapsed_sections": []
    },
    "kernelspec": {
      "display_name": "Python 3",
      "language": "python",
      "name": "python3"
    },
    "language_info": {
      "codemirror_mode": {
        "name": "ipython",
        "version": 3
      },
      "file_extension": ".py",
      "mimetype": "text/x-python",
      "name": "python",
      "nbconvert_exporter": "python",
      "pygments_lexer": "ipython3",
      "version": "3.6.3"
    }
  },
  "cells": [
    {
      "cell_type": "markdown",
      "metadata": {
        "id": "_bphECiUa9zw"
      },
      "source": [
        "# Lab 5: Spam Detection\n",
        "\n",
        "**Deadline**: Monday, March 15, 5:00 PM\n",
        "\n",
        "**Late Penalty**: There is a penalty-free grace period of one hour past the deadline. Any work that is submitted between 1 hour and 24 hours past the deadline will receive a 20% grade deduction. No other late work is accepted. Quercus submission time will be used, not your local computer time. You can submit your labs as many times as you want before the deadline, so please submit often and early.\n",
        "\n",
        "**TA**: Gautam Dawar <gautam.dawar@mail.utoronto.ca>\n",
        "\n",
        "In this assignment, we will build a recurrent neural network to classify a SMS text message\n",
        "as \"spam\" or \"not spam\". In the process, you will\n",
        "    \n",
        "1. Clean and process text data for machine learning.\n",
        "2. Understand and implement a character-level recurrent neural network.\n",
        "3. Use torchtext to build recurrent neural network models.\n",
        "4. Understand batching for a recurrent neural network, and use torchtext to implement RNN batching.\n",
        "\n",
        "### What to submit\n",
        "\n",
        "Submit a PDF file containing all your code, outputs, and write-up. You can produce a PDF of your Google Colab file by going to File > Print and then save as PDF. The Colab instructions have more information (.html files are also acceptable).\n",
        "\n",
        "Do not submit any other files produced by your code.\n",
        "\n",
        "Include a link to your colab file in your submission."
      ]
    },
    {
      "cell_type": "markdown",
      "metadata": {
        "id": "rWiUqJJTa9z6"
      },
      "source": [
        "## Colab Link\n",
        "\n",
        "Include a link to your Colab file here. If you would like the TA to look at your\n",
        "Colab file in case your solutions are cut off, **please make sure that your Colab\n",
        "file is publicly accessible at the time of submission**.\n",
        "\n",
        "Colab Link: https://drive.google.com/file/d/1QHl6QdK3c58dGU3fFaXdpMeFfe36MvQq/view?usp=sharing"
      ]
    },
    {
      "cell_type": "code",
      "metadata": {
        "id": "w37kylpbbecs"
      },
      "source": [
        "%%shell\n",
        "jupyter nbconvert --to html /content/Lab_4_Data_Imputation.ipynb"
      ],
      "execution_count": null,
      "outputs": []
    },
    {
      "cell_type": "code",
      "metadata": {
        "collapsed": true,
        "id": "HgfNOUaPa9z8"
      },
      "source": [
        "import torch\n",
        "import torch.nn as nn\n",
        "import torch.nn.functional as F\n",
        "import torch.optim as optim\n",
        "import numpy as np\n",
        "import matplotlib.pyplot as plt"
      ],
      "execution_count": 75,
      "outputs": []
    },
    {
      "cell_type": "markdown",
      "metadata": {
        "id": "M0jLI9LBa90C"
      },
      "source": [
        "## Part 1. Data Cleaning [15 pt]\n",
        "\n",
        "We will be using the \"SMS Spam Collection Data Set\" available at http://archive.ics.uci.edu/ml/datasets/SMS+Spam+Collection\n",
        "\n",
        "There is a link to download the \"Data Folder\" at the very top of the webpage. Download the zip file, unzip it, and upload the file `SMSSpamCollection` to Colab.    "
      ]
    },
    {
      "cell_type": "markdown",
      "metadata": {
        "id": "sSuF7C_Ga90E"
      },
      "source": [
        "### Part (a) [2 pt]\n",
        "\n",
        "Open up the file in Python, and print out one example of a spam SMS, and one example of a non-spam SMS.\n",
        "\n",
        "What is the label value for a spam message, and what is the label value for a non-spam message?"
      ]
    },
    {
      "cell_type": "code",
      "metadata": {
        "colab": {
          "base_uri": "https://localhost:8080/"
        },
        "collapsed": true,
        "id": "I_IfXHeTa90F",
        "outputId": "3a635cbf-9c84-4264-b9cb-ac26d7739e0c"
      },
      "source": [
        "for line in open('SMSSpamCollection'):\n",
        "    if line[0] == 'h':\n",
        "      print(line)\n",
        "      break\n",
        "for line in open('SMSSpamCollection'):\n",
        "    if line[0] == 's':\n",
        "      print(line)\n",
        "      break"
      ],
      "execution_count": 56,
      "outputs": [
        {
          "output_type": "stream",
          "text": [
            "ham\tGo until jurong point, crazy.. Available only in bugis n great world la e buffet... Cine there got amore wat...\n",
            "\n",
            "spam\tFree entry in 2 a wkly comp to win FA Cup final tkts 21st May 2005. Text FA to 87121 to receive entry question(std txt rate)T&C's apply 08452810075over18's\n",
            "\n"
          ],
          "name": "stdout"
        }
      ]
    },
    {
      "cell_type": "markdown",
      "metadata": {
        "id": "h7EhIlL5nARi"
      },
      "source": [
        "- Label value for spam message: 'spam'\n",
        "- Lael value for non-spam message: 'ham'"
      ]
    },
    {
      "cell_type": "markdown",
      "metadata": {
        "id": "AukA6vMVa90d"
      },
      "source": [
        "### Part (b) [1 pt]\n",
        "\n",
        "How many spam messages are there in the data set?\n",
        "How many non-spam messages are there in the data set?\n"
      ]
    },
    {
      "cell_type": "code",
      "metadata": {
        "colab": {
          "base_uri": "https://localhost:8080/"
        },
        "collapsed": true,
        "id": "LgsqyemVa90e",
        "outputId": "f4cd8f08-67af-4efb-b948-ad5244bb9230"
      },
      "source": [
        "spamCnt = 0\n",
        "hamCnt = 0\n",
        "\n",
        "for line in open('SMSSpamCollection'):\n",
        "  if line[0] == 's':\n",
        "    spamCnt = spamCnt + 1\n",
        "  else:\n",
        "    hamCnt = hamCnt + 1\n",
        "\n",
        "print(\"Number of spam messages: \", spamCnt)\n",
        "print(\"Number of non-spam messages: \", hamCnt)\n"
      ],
      "execution_count": 57,
      "outputs": [
        {
          "output_type": "stream",
          "text": [
            "Number of spam messages:  747\n",
            "Number of non-spam messages:  4827\n"
          ],
          "name": "stdout"
        }
      ]
    },
    {
      "cell_type": "markdown",
      "metadata": {
        "id": "d1WXxVt6a90h"
      },
      "source": [
        "### Part (c) [4 pt]\n",
        "\n",
        "We will be using the package `torchtext` to load, process, and batch the data.\n",
        "A tutorial to torchtext is available below. This tutorial uses the same\n",
        "Sentiment140 data set that we explored during lecture.\n",
        "\n",
        "https://medium.com/@sonicboom8/sentiment-analysis-torchtext-55fb57b1fab8\n",
        "\n",
        "Unlike what we did during lecture, we will be building a **character level RNN**.\n",
        "That is, we will treat each **character** as a token in our sequence,\n",
        "rather than each **word**.\n",
        "\n",
        "Identify two advantage and two disadvantage of modelling SMS text\n",
        "messages as a sequence of characters rather than a sequence of words."
      ]
    },
    {
      "cell_type": "markdown",
      "metadata": {
        "id": "ie_D0bv9a90k"
      },
      "source": [
        "### Part (d) [1 pt]\n",
        "\n",
        "We will be loading our data set using `torchtext.data.TabularDataset`. The\n",
        "constructor will read directly from the `SMSSpamCollection` file. \n",
        "\n",
        "For the data file to be read successfuly, we\n",
        "need to specify the **fields** (columns) in the file. \n",
        "In our case, the dataset has two fields: \n",
        "\n",
        "- a text field containing the sms messages,\n",
        "- a label field which will be converted into a binary label.\n",
        "\n",
        "Split the dataset into `train`, `valid`, and `test`. Use a 60-20-20 split.\n",
        "You may find this torchtext API page helpful:\n",
        "https://torchtext.readthedocs.io/en/latest/data.html#dataset\n",
        "\n",
        "Hint: There is a `Dataset` method that can perform the random split for you."
      ]
    },
    {
      "cell_type": "code",
      "metadata": {
        "collapsed": true,
        "id": "P_Y6Puz9a90l"
      },
      "source": [
        "import torchtext\n",
        "\n",
        "text_field = torchtext.legacy.data.Field(sequential=True,      # text sequence\n",
        "                                  tokenize=lambda x: x, # because are building a character-RNN\n",
        "                                  include_lengths=True, # to track the length of sequences, for batching\n",
        "                                  batch_first=True,\n",
        "                                  use_vocab=True)       # to turn each character into an integer index\n",
        "label_field = torchtext.legacy.data.Field(sequential=False,    # not a sequence\n",
        "                                   use_vocab=False,     # don't need to track vocabulary\n",
        "                                   is_target=True,      \n",
        "                                   batch_first=True,\n",
        "                                   preprocessing=lambda x: int(x == 'spam')) # convert text to 0 and 1\n",
        "\n",
        "fields = [('label', label_field), ('sms', text_field)]\n",
        "dataset = torchtext.legacy.data.TabularDataset(\"SMSSpamCollection\", # name of the file\n",
        "                                        \"tsv\",               # fields are separated by a tab\n",
        "                                        fields)\n",
        "\n",
        "# dataset[0].sms\n",
        "# dataset[0].label\n",
        "train, valid, test = dataset.split([0.6, 0.2, 0.2])"
      ],
      "execution_count": 58,
      "outputs": []
    },
    {
      "cell_type": "markdown",
      "metadata": {
        "id": "v6nP0Ks_a90o"
      },
      "source": [
        "### Part (e) [2 pt]\n",
        "\n",
        "You saw in part (b) that there are many more non-spam messages than spam messages.\n",
        "This **imbalance** in our training data will be problematic for training.\n",
        "We can fix this disparity by duplicating spam messages in the training set,\n",
        "so that the training set is roughly **balanced**.\n",
        "\n",
        "Explain why having a balanced training set is helpful for training our neural network.\n",
        "\n",
        "Note: if you are not sure, try removing the below code and train your mode."
      ]
    },
    {
      "cell_type": "code",
      "metadata": {
        "collapsed": true,
        "id": "FWvx9_rka90p"
      },
      "source": [
        "# save the original training examples\n",
        "old_train_examples = train.examples\n",
        "# get all the spam messages in `train`\n",
        "train_spam = []\n",
        "for item in train.examples:\n",
        "    if item.label == 1:\n",
        "        train_spam.append(item)\n",
        "# duplicate each spam message 6 more times\n",
        "train.examples = old_train_examples + train_spam * 6"
      ],
      "execution_count": 59,
      "outputs": []
    },
    {
      "cell_type": "markdown",
      "metadata": {
        "id": "nYBnXCgyjcRH"
      },
      "source": [
        "If we have an unbalanced dataset, the model could be just selecting a non-spam message as the output because of the higher probability. This could give a high accuracy of the model, where the model is not actually performing well."
      ]
    },
    {
      "cell_type": "markdown",
      "metadata": {
        "id": "j7eUmBEva90r"
      },
      "source": [
        "### Part (f) [1 pt]\n",
        "\n",
        "We need to build the vocabulary on the training data by running the below code.\n",
        "This finds all the possible character tokens in the training set.\n",
        "\n",
        "Explain what the variables `text_field.vocab.stoi` and `text_field.vocab.itos` represent."
      ]
    },
    {
      "cell_type": "code",
      "metadata": {
        "collapsed": true,
        "id": "8CQM8flKa90s"
      },
      "source": [
        "text_field.build_vocab(train)\n",
        "#print(text_field.vocab.stoi)\n",
        "#print(text_field.vocab.itos)"
      ],
      "execution_count": 60,
      "outputs": []
    },
    {
      "cell_type": "markdown",
      "metadata": {
        "id": "fK7woDMzkMOg"
      },
      "source": [
        "- test_field.vocab.stoi : a dictionary mapping every characters to a numerical identifier.\n",
        "- test_field.vocab.itos : a list of characters indexed by their numerical identifiers"
      ]
    },
    {
      "cell_type": "markdown",
      "metadata": {
        "id": "TC8WVE8Ua90u"
      },
      "source": [
        "### Part (g) [2 pt]\n",
        "\n",
        "The tokens `<unk>` and `<pad>` were not in our SMS text messages.\n",
        "What do these two values represent?"
      ]
    },
    {
      "cell_type": "markdown",
      "metadata": {
        "id": "kNg3RcCslDib"
      },
      "source": [
        "- < unk  >: represents unknown characters.\n",
        "- < pad >: represents padding which increases the size of messages so that they all have the same length."
      ]
    },
    {
      "cell_type": "markdown",
      "metadata": {
        "id": "Ff5CNk7Qa90y"
      },
      "source": [
        "### Part (h) [2 pt]\n",
        "\n",
        "Since text sequences are of variable length, `torchtext` provides a `BucketIterator` data loader,\n",
        "which batches similar length sequences together. The iterator also provides functionalities to\n",
        "pad sequences automatically.\n",
        "\n",
        "Take a look at 10 batches in `train_iter`. What is the maximum length of the\n",
        "input sequence in each batch? How many `<pad>` tokens are used in each of the 10\n",
        "batches?"
      ]
    },
    {
      "cell_type": "code",
      "metadata": {
        "collapsed": true,
        "id": "V8N8qLWOa90y"
      },
      "source": [
        "train_iter = torchtext.legacy.data.BucketIterator(train,\n",
        "                                           batch_size=32,\n",
        "                                           sort_key=lambda x: len(x.sms), # to minimize padding\n",
        "                                           sort_within_batch=True,        # sort within each batch\n",
        "                                           repeat=False)                  # repeat the iterator for many epochs"
      ],
      "execution_count": 61,
      "outputs": []
    },
    {
      "cell_type": "code",
      "metadata": {
        "colab": {
          "base_uri": "https://localhost:8080/"
        },
        "collapsed": true,
        "id": "Qwz-rOaha902",
        "outputId": "f50ff7fa-6a2a-4346-d548-070b734490a5"
      },
      "source": [
        "cnt = 0\n",
        "maxlen = [0, 0, 0, 0, 0, 0, 0, 0, 0, 0]\n",
        "padCnt = [0, 0, 0, 0, 0, 0, 0, 0, 0, 0]\n",
        "\n",
        "for batch in train_iter:\n",
        "  if cnt > 9:\n",
        "    break\n",
        "  else:\n",
        "    maxlen[cnt] = int(batch.sms[1][0])\n",
        "    for sms in batch.sms[0]:\n",
        "      for token in sms:\n",
        "        if token == text_field.vocab.stoi['<pad>']:\n",
        "          padCnt[cnt] = padCnt[cnt] + 1\n",
        "  cnt = cnt + 1\n",
        "\n",
        "print(\"maximum lengths are: \", maxlen)\n",
        "print(\"number of <pad> tokens are: \", padCnt)"
      ],
      "execution_count": 62,
      "outputs": [
        {
          "output_type": "stream",
          "text": [
            "maximum lengths are:  [157, 155, 32, 55, 223, 75, 33, 30, 152, 137]\n",
            "number of <pad> tokens are:  [0, 0, 12, 22, 946, 52, 7, 21, 0, 27]\n"
          ],
          "name": "stdout"
        }
      ]
    },
    {
      "cell_type": "markdown",
      "metadata": {
        "id": "y7HnqP6_a904"
      },
      "source": [
        "## Part 2. Model Building [8 pt]\n",
        "\n",
        "Build a recurrent neural network model, using an architecture of your choosing. \n",
        "Use the one-hot embedding of each character as input to your recurrent network.\n",
        "Use one or more fully-connected layers to make the prediction based on your\n",
        "recurrent network output.\n",
        "\n",
        "Instead of using the RNN output value for the final token, another often used\n",
        "strategy is to max-pool over the entire output array. That is, instead of calling\n",
        "something like:\n",
        "\n",
        "```\n",
        "out, _ = self.rnn(x)\n",
        "self.fc(out[:, -1, :])\n",
        "```\n",
        "\n",
        "where `self.rnn` is an `nn.RNN`, `nn.GRU`, or `nn.LSTM` module, and `self.fc` is a \n",
        "fully-connected \n",
        "layer, we use:\n",
        "\n",
        "```\n",
        "out, _ = self.rnn(x)\n",
        "self.fc(torch.max(out, dim=1)[0])\n",
        "```\n",
        "\n",
        "This works reasonably in practice. An even better alternative is to concatenate the\n",
        "max-pooling and average-pooling of the RNN outputs:\n",
        "\n",
        "```\n",
        "out, _ = self.rnn(x)\n",
        "out = torch.cat([torch.max(out, dim=1)[0], \n",
        "                 torch.mean(out, dim=1)], dim=1)\n",
        "self.fc(out)\n",
        "```\n",
        "\n",
        "We encourage you to try out all these options. The way you pool the RNN outputs\n",
        "is one of the \"hyperparameters\" that you can choose to tune later on."
      ]
    },
    {
      "cell_type": "code",
      "metadata": {
        "colab": {
          "base_uri": "https://localhost:8080/"
        },
        "collapsed": true,
        "id": "jHl1p_Wwa905",
        "outputId": "e0e62772-ec8d-4f88-fe87-79b603367b20"
      },
      "source": [
        "# You might find this code helpful for obtaining\n",
        "# PyTorch one-hot vectors.\n",
        "\n",
        "ident = torch.eye(10)\n",
        "print(ident[0]) # one-hot vector\n",
        "print(ident[1]) # one-hot vector\n",
        "x = torch.tensor([[1, 2], [3, 4]])\n",
        "print(ident[x]) # one-hot vectors"
      ],
      "execution_count": 48,
      "outputs": [
        {
          "output_type": "stream",
          "text": [
            "tensor([1., 0., 0., 0., 0., 0., 0., 0., 0., 0.])\n",
            "tensor([0., 1., 0., 0., 0., 0., 0., 0., 0., 0.])\n",
            "tensor([[[0., 1., 0., 0., 0., 0., 0., 0., 0., 0.],\n",
            "         [0., 0., 1., 0., 0., 0., 0., 0., 0., 0.]],\n",
            "\n",
            "        [[0., 0., 0., 1., 0., 0., 0., 0., 0., 0.],\n",
            "         [0., 0., 0., 0., 1., 0., 0., 0., 0., 0.]]])\n"
          ],
          "name": "stdout"
        }
      ]
    },
    {
      "cell_type": "code",
      "metadata": {
        "collapsed": true,
        "id": "4LTQ7zFka909"
      },
      "source": [
        "class RNN(nn.Module):\n",
        "    def __init__(self, input_size, hidden_size, num_classes):\n",
        "        self.name = 'RNN'\n",
        "        super(RNN, self).__init__()\n",
        "        self.emb = torch.eye(input_size)\n",
        "        self.hidden_size = hidden_size\n",
        "        self.rnn = nn.RNN(input_size, hidden_size, batch_first=True)\n",
        "        self.fc = nn.Linear(hidden_size, num_classes)\n",
        "    \n",
        "    def forward(self, x):\n",
        "        # Look up the embedding\n",
        "        x = self.emb[x]\n",
        "        # Set an initial hidden state\n",
        "        h0 = torch.zeros(1, x.size(0), self.hidden_size)\n",
        "        # Forward propagate the RNN\n",
        "        out, _ = self.rnn(x, h0)\n",
        "        # Pass the output of the last time step to the classifier\n",
        "        out = self.fc(out[:, -1, :])\n",
        "        return out"
      ],
      "execution_count": 73,
      "outputs": []
    },
    {
      "cell_type": "markdown",
      "metadata": {
        "id": "vKIYPl_Ba90_"
      },
      "source": [
        "## Part 3. Training [16 pt]\n",
        "\n",
        "### Part (a) [4 pt]\n",
        "\n",
        "Complete the `get_accuracy` function, which will compute the\n",
        "accuracy (rate) of your model across a dataset (e.g. validation set).\n",
        "You may modify `torchtext.data.BucketIterator` to make your computation\n",
        "faster."
      ]
    },
    {
      "cell_type": "code",
      "metadata": {
        "collapsed": true,
        "id": "pvNfhGD6a91A"
      },
      "source": [
        "def get_accuracy(model, data):\n",
        "    \"\"\" Compute the accuracy of the `model` across a dataset `data`\n",
        "    \n",
        "    Example usage:\n",
        "    \n",
        "    >>> model = MyRNN() # to be defined\n",
        "    >>> get_accuracy(model, valid) # the variable `valid` is from above\n",
        "    \"\"\"\n",
        "    \n",
        "    correct, total = 0, 0\n",
        "    for sms, labels in data:\n",
        "        output = model(sms[0])\n",
        "        pred = output.max(1, keepdim=True)[1]\n",
        "        correct += pred.eq(labels.view_as(pred)).sum().item()\n",
        "        total += labels.shape[0]\n",
        "    return correct / total"
      ],
      "execution_count": 65,
      "outputs": []
    },
    {
      "cell_type": "markdown",
      "metadata": {
        "id": "TlxlcAC1a91C"
      },
      "source": [
        "### Part (b) [4 pt]\n",
        "\n",
        "Train your model. Plot the training curve of your final model. \n",
        "Your training curve should have the training/validation loss and\n",
        "accuracy plotted periodically.\n",
        "\n",
        "Note: Not all of your batches will have the same batch size.\n",
        "In particular, if your training set does not divide evenly by\n",
        "your batch size, there will be a batch that is smaller than\n",
        "the rest. "
      ]
    },
    {
      "cell_type": "code",
      "metadata": {
        "collapsed": true,
        "id": "CVtf7CJCa91D"
      },
      "source": [
        "def train_rnn_network(model, train, valid, num_epochs=5, learning_rate=1e-5):\n",
        "    criterion = nn.CrossEntropyLoss()\n",
        "    optimizer = torch.optim.Adam(model.parameters(), lr=learning_rate)\n",
        "    losses, train_acc, valid_acc = [], [], []\n",
        "    epochs = []\n",
        "    for epoch in range(num_epochs):\n",
        "        for sms, labels in train:\n",
        "            optimizer.zero_grad()\n",
        "            pred = model(sms[0])\n",
        "            loss = criterion(pred, labels)\n",
        "            loss.backward()\n",
        "            optimizer.step()\n",
        "        losses.append(float(loss))\n",
        "\n",
        "        epochs.append(epoch)\n",
        "        train_acc.append(get_accuracy(model, train))\n",
        "        valid_acc.append(get_accuracy(model, valid))\n",
        "        print(\"Epoch %d; Loss %f; Train Acc %f; Val Acc %f\" % (\n",
        "              epoch+1, loss, train_acc[-1], valid_acc[-1]))\n",
        "    # plotting\n",
        "    plt.title(\"Training Curve\")\n",
        "    plt.plot(losses, label=\"Train\")\n",
        "    plt.xlabel(\"Epoch\")\n",
        "    plt.ylabel(\"Loss\")\n",
        "    plt.show()\n",
        "\n",
        "    plt.title(\"Training Curve\")\n",
        "    plt.plot(epochs, train_acc, label=\"Train\")\n",
        "    plt.plot(epochs, valid_acc, label=\"Validation\")\n",
        "    plt.xlabel(\"Epoch\")\n",
        "    plt.ylabel(\"Accuracy\")\n",
        "    plt.legend(loc='best')\n",
        "    plt.show()"
      ],
      "execution_count": 70,
      "outputs": []
    },
    {
      "cell_type": "code",
      "metadata": {
        "id": "0VjdTeQE-4gb"
      },
      "source": [
        "train_iter = torchtext.legacy.data.BucketIterator(train,\n",
        "                                           batch_size=32,\n",
        "                                           sort_key=lambda x: len(x.sms), # to minimize padding\n",
        "                                           sort_within_batch=True,        # sort within each batch\n",
        "                                           repeat=False)                  # repeat the iterator for many epochs\n",
        "valid_iter = torchtext.legacy.data.BucketIterator(valid,\n",
        "                                           batch_size=32,\n",
        "                                           sort_key=lambda x: len(x.sms), # to minimize padding\n",
        "                                           sort_within_batch=True,        # sort within each batch\n",
        "                                           repeat=False)                  # repeat the iterator for many epochs"
      ],
      "execution_count": 71,
      "outputs": []
    },
    {
      "cell_type": "code",
      "metadata": {
        "colab": {
          "base_uri": "https://localhost:8080/",
          "height": 828
        },
        "id": "GIZbd00V9f2H",
        "outputId": "f20ae706-7de7-4195-8e29-6b782b1e4e3d"
      },
      "source": [
        "model = RNN(len(text_field.vocab.itos), 100, 2)\n",
        "train_rnn_network(model, train_iter, valid_iter, 15, 1e-5)"
      ],
      "execution_count": 77,
      "outputs": [
        {
          "output_type": "stream",
          "text": [
            "Epoch 1; Loss 0.689404; Train Acc 0.504099; Val Acc 0.385650\n",
            "Epoch 2; Loss 0.687873; Train Acc 0.519491; Val Acc 0.403587\n",
            "Epoch 3; Loss 0.689592; Train Acc 0.580224; Val Acc 0.464574\n",
            "Epoch 4; Loss 0.674729; Train Acc 0.630919; Val Acc 0.563229\n",
            "Epoch 5; Loss 0.685304; Train Acc 0.655178; Val Acc 0.542601\n",
            "Epoch 6; Loss 0.659655; Train Acc 0.702024; Val Acc 0.600897\n",
            "Epoch 7; Loss 0.683252; Train Acc 0.736490; Val Acc 0.647534\n",
            "Epoch 8; Loss 0.674797; Train Acc 0.749038; Val Acc 0.695964\n",
            "Epoch 9; Loss 0.663270; Train Acc 0.778317; Val Acc 0.830493\n",
            "Epoch 10; Loss 0.666078; Train Acc 0.793375; Val Acc 0.848430\n",
            "Epoch 11; Loss 0.620603; Train Acc 0.818638; Val Acc 0.879821\n",
            "Epoch 12; Loss 0.383500; Train Acc 0.874519; Val Acc 0.840359\n",
            "Epoch 13; Loss 0.499476; Train Acc 0.887569; Val Acc 0.919283\n",
            "Epoch 14; Loss 0.226507; Train Acc 0.890748; Val Acc 0.929148\n",
            "Epoch 15; Loss 0.551131; Train Acc 0.887402; Val Acc 0.845740\n"
          ],
          "name": "stdout"
        },
        {
          "output_type": "display_data",
          "data": {
            "image/png": "[encoded data removed]",
            "text/plain": [
              "<Figure size 432x288 with 1 Axes>"
            ]
          },
          "metadata": {
            "tags": [],
            "needs_background": "light"
          }
        },
        {
          "output_type": "display_data",
          "data": {
            "image/png": "[encoded data removed]",
            "text/plain": [
              "<Figure size 432x288 with 1 Axes>"
            ]
          },
          "metadata": {
            "tags": [],
            "needs_background": "light"
          }
        }
      ]
    },
    {
      "cell_type": "markdown",
      "metadata": {
        "id": "fE3eRkDAa91F"
      },
      "source": [
        "### Part (c) [4 pt]\n",
        "\n",
        "Choose at least 4 hyperparameters to tune. Explain how you tuned the hyperparameters.\n",
        "You don't need to include your training curve for every model you trained.\n",
        "Instead, explain what hyperparemters you tuned, what the best validation accuracy was,\n",
        "and the reasoning behind the hyperparameter decisions you made.\n",
        "\n",
        "For this assignment, you should tune more than just your learning rate and epoch. \n",
        "Choose at least 2 hyperparameters that are unrelated to the optimizer."
      ]
    },
    {
      "cell_type": "code",
      "metadata": {
        "collapsed": true,
        "id": "A2GEWfDca91G"
      },
      "source": [
        "def train_rnn_network_no_curve(model, train, valid, num_epochs=5, learning_rate=1e-5):\n",
        "    criterion = nn.CrossEntropyLoss()\n",
        "    optimizer = torch.optim.Adam(model.parameters(), lr=learning_rate)\n",
        "    losses, train_acc, valid_acc = [], [], []\n",
        "    epochs = []\n",
        "    for epoch in range(num_epochs):\n",
        "        for sms, labels in train:\n",
        "            optimizer.zero_grad()\n",
        "            pred = model(sms[0])\n",
        "            loss = criterion(pred, labels)\n",
        "            loss.backward()\n",
        "            optimizer.step()\n",
        "        losses.append(float(loss))\n",
        "\n",
        "        epochs.append(epoch)\n",
        "        train_acc.append(get_accuracy(model, train))\n",
        "        valid_acc.append(get_accuracy(model, valid))\n",
        "        print(\"Epoch %d; Loss %f; Train Acc %f; Val Acc %f\" % (\n",
        "              epoch+1, loss, train_acc[-1], valid_acc[-1]))"
      ],
      "execution_count": 78,
      "outputs": []
    },
    {
      "cell_type": "code",
      "metadata": {
        "colab": {
          "base_uri": "https://localhost:8080/"
        },
        "id": "PIwPY2liBhIo",
        "outputId": "a04171a1-1205-428a-aa6d-03b531bcffbe"
      },
      "source": [
        "#number of hidden units: 150\n",
        "#num_epochs: 20\n",
        "\n",
        "first_model = RNN(len(text_field.vocab.itos), 150, 2)\n",
        "train_rnn_network_no_curve(first_model, train_iter, valid_iter, 20, 1e-5)"
      ],
      "execution_count": 79,
      "outputs": [
        {
          "output_type": "stream",
          "text": [
            "Epoch 1; Loss 0.725935; Train Acc 0.469466; Val Acc 0.173991\n",
            "Epoch 2; Loss 0.685749; Train Acc 0.480843; Val Acc 0.180269\n",
            "Epoch 3; Loss 0.667322; Train Acc 0.503263; Val Acc 0.184753\n",
            "Epoch 4; Loss 0.704652; Train Acc 0.534884; Val Acc 0.279821\n",
            "Epoch 5; Loss 0.686205; Train Acc 0.614690; Val Acc 0.510314\n",
            "Epoch 6; Loss 0.664570; Train Acc 0.651665; Val Acc 0.577578\n",
            "Epoch 7; Loss 0.652761; Train Acc 0.677263; Val Acc 0.622422\n",
            "Epoch 8; Loss 0.693406; Train Acc 0.682282; Val Acc 0.633184\n",
            "Epoch 9; Loss 0.688069; Train Acc 0.703363; Val Acc 0.663677\n",
            "Epoch 10; Loss 0.629178; Train Acc 0.720930; Val Acc 0.675336\n",
            "Epoch 11; Loss 0.326625; Train Acc 0.733311; Val Acc 0.907623\n",
            "Epoch 12; Loss 0.468660; Train Acc 0.892254; Val Acc 0.933632\n",
            "Epoch 13; Loss 0.497332; Train Acc 0.888238; Val Acc 0.939013\n",
            "Epoch 14; Loss 0.353830; Train Acc 0.919859; Val Acc 0.905830\n",
            "Epoch 15; Loss 0.514963; Train Acc 0.929229; Val Acc 0.921076\n",
            "Epoch 16; Loss 0.186039; Train Acc 0.918688; Val Acc 0.906726\n",
            "Epoch 17; Loss 0.100452; Train Acc 0.921867; Val Acc 0.941704\n",
            "Epoch 18; Loss 0.406265; Train Acc 0.932240; Val Acc 0.928251\n",
            "Epoch 19; Loss 0.374526; Train Acc 0.940438; Val Acc 0.942601\n",
            "Epoch 20; Loss 0.126396; Train Acc 0.932909; Val Acc 0.943498\n"
          ],
          "name": "stdout"
        }
      ]
    },
    {
      "cell_type": "code",
      "metadata": {
        "colab": {
          "base_uri": "https://localhost:8080/"
        },
        "id": "thUFUhDvCQND",
        "outputId": "1e1438d3-56ea-4937-cae0-f22dee38f389"
      },
      "source": [
        "#increased number of hidden units: 200\n",
        "#num_epochs: 20\n",
        "#increased lr: 5e-5\n",
        "\n",
        "second_model = RNN(len(text_field.vocab.itos), 200, 2)\n",
        "train_rnn_network_no_curve(second_model, train_iter, valid_iter, 20, 5e-5)"
      ],
      "execution_count": 81,
      "outputs": [
        {
          "output_type": "stream",
          "text": [
            "Epoch 1; Loss 0.679200; Train Acc 0.674084; Val Acc 0.677130\n",
            "Epoch 2; Loss 0.751597; Train Acc 0.634265; Val Acc 0.397309\n",
            "Epoch 3; Loss 0.292762; Train Acc 0.878032; Val Acc 0.939910\n",
            "Epoch 4; Loss 0.187674; Train Acc 0.923708; Val Acc 0.945291\n",
            "Epoch 5; Loss 0.161972; Train Acc 0.932742; Val Acc 0.944395\n",
            "Epoch 6; Loss 0.048458; Train Acc 0.940773; Val Acc 0.945291\n",
            "Epoch 7; Loss 0.147203; Train Acc 0.935419; Val Acc 0.924664\n",
            "Epoch 8; Loss 0.035130; Train Acc 0.947967; Val Acc 0.941704\n",
            "Epoch 9; Loss 0.105307; Train Acc 0.947633; Val Acc 0.945291\n",
            "Epoch 10; Loss 0.062518; Train Acc 0.956500; Val Acc 0.953363\n",
            "Epoch 11; Loss 0.016612; Train Acc 0.943785; Val Acc 0.938117\n",
            "Epoch 12; Loss 0.040773; Train Acc 0.951146; Val Acc 0.965919\n",
            "Epoch 13; Loss 0.021133; Train Acc 0.942613; Val Acc 0.911211\n",
            "Epoch 14; Loss 0.076483; Train Acc 0.960181; Val Acc 0.947085\n",
            "Epoch 15; Loss 0.046494; Train Acc 0.955329; Val Acc 0.935426\n",
            "Epoch 16; Loss 0.057177; Train Acc 0.962690; Val Acc 0.955157\n",
            "Epoch 17; Loss 0.044906; Train Acc 0.962858; Val Acc 0.956951\n",
            "Epoch 18; Loss 0.061524; Train Acc 0.959679; Val Acc 0.953363\n",
            "Epoch 19; Loss 0.053945; Train Acc 0.959177; Val Acc 0.946188\n",
            "Epoch 20; Loss 0.751417; Train Acc 0.960348; Val Acc 0.956951\n"
          ],
          "name": "stdout"
        }
      ]
    },
    {
      "cell_type": "code",
      "metadata": {
        "id": "FCOPMueVJz-Y"
      },
      "source": [
        "class myRNN(nn.Module):\n",
        "    def __init__(self, input_size, hidden_size, num_classes):\n",
        "        self.name = 'myRNN'\n",
        "        super(myRNN, self).__init__()\n",
        "        self.emb = torch.eye(input_size)\n",
        "        self.hidden_size = hidden_size\n",
        "        self.rnn = nn.RNN(input_size, hidden_size, batch_first=True)\n",
        "        self.fc = nn.Linear(hidden_size, num_classes)\n",
        "    \n",
        "    def forward(self, x):\n",
        "        # Look up the embedding\n",
        "        x = self.emb[x]\n",
        "        # Set an initial hidden state\n",
        "        h0 = torch.zeros(1, x.size(0), self.hidden_size)\n",
        "        # Forward propagate the RNN\n",
        "        out, _ = self.rnn(x, h0)\n",
        "        # Pass the output of the last time step to the classifier\n",
        "        out = self.fc(torch.max(out, dim=1)[0])\n",
        "        return out"
      ],
      "execution_count": 90,
      "outputs": []
    },
    {
      "cell_type": "code",
      "metadata": {
        "colab": {
          "base_uri": "https://localhost:8080/"
        },
        "id": "0w_l17lqCRJy",
        "outputId": "16580d91-2d8a-407b-9be2-8840dc8e1c72"
      },
      "source": [
        "#new RNN\n",
        "#number of hidden units: 200\n",
        "#decreased num_epochs: 15\n",
        "#lr: 5e-5\n",
        "\n",
        "third_model = myRNN(len(text_field.vocab.itos), 200, 2)\n",
        "train_rnn_network_no_curve(third_model, train_iter, valid_iter, 15, 5e-5)"
      ],
      "execution_count": 92,
      "outputs": [
        {
          "output_type": "stream",
          "text": [
            "Epoch 1; Loss 0.693817; Train Acc 0.664380; Val Acc 0.383857\n",
            "Epoch 2; Loss 0.325968; Train Acc 0.705705; Val Acc 0.494170\n",
            "Epoch 3; Loss 0.216397; Train Acc 0.935586; Val Acc 0.912108\n",
            "Epoch 4; Loss 0.411475; Train Acc 0.937594; Val Acc 0.913901\n",
            "Epoch 5; Loss 0.198719; Train Acc 0.941442; Val Acc 0.921076\n",
            "Epoch 6; Loss 0.164111; Train Acc 0.913836; Val Acc 0.966816\n",
            "Epoch 7; Loss 0.170448; Train Acc 0.948804; Val Acc 0.957848\n",
            "Epoch 8; Loss 0.071259; Train Acc 0.952986; Val Acc 0.958744\n",
            "Epoch 9; Loss 0.075922; Train Acc 0.942781; Val Acc 0.964126\n",
            "Epoch 10; Loss 0.132428; Train Acc 0.955998; Val Acc 0.950673\n",
            "Epoch 11; Loss 0.238174; Train Acc 0.953990; Val Acc 0.945291\n",
            "Epoch 12; Loss 0.056733; Train Acc 0.951146; Val Acc 0.965919\n",
            "Epoch 13; Loss 0.063412; Train Acc 0.954994; Val Acc 0.958744\n",
            "Epoch 14; Loss 0.071442; Train Acc 0.958173; Val Acc 0.945291\n",
            "Epoch 15; Loss 0.065657; Train Acc 0.961519; Val Acc 0.954260\n"
          ],
          "name": "stdout"
        }
      ]
    },
    {
      "cell_type": "code",
      "metadata": {
        "colab": {
          "base_uri": "https://localhost:8080/"
        },
        "id": "aW_fOCh1CTWz",
        "outputId": "fe21c5a8-a10d-4d29-ba0b-ecf98ef3f1f8"
      },
      "source": [
        "#new RNN\n",
        "#number of hidden units: 200\n",
        "#decreased num_epochs: 10\n",
        "#increased lr: 5e-4\n",
        "\n",
        "fourth_model = myRNN(len(text_field.vocab.itos), 200, 2)\n",
        "train_rnn_network_no_curve(fourth_model, train_iter, valid_iter, 10, 5e-4)"
      ],
      "execution_count": 95,
      "outputs": [
        {
          "output_type": "stream",
          "text": [
            "Epoch 1; Loss 0.247921; Train Acc 0.945290; Val Acc 0.971300\n",
            "Epoch 2; Loss 0.072456; Train Acc 0.960515; Val Acc 0.966816\n",
            "Epoch 3; Loss 0.340389; Train Acc 0.969383; Val Acc 0.973094\n",
            "Epoch 4; Loss 0.127796; Train Acc 0.977246; Val Acc 0.973094\n",
            "Epoch 5; Loss 0.205022; Train Acc 0.979756; Val Acc 0.972197\n",
            "Epoch 6; Loss 0.042923; Train Acc 0.981596; Val Acc 0.975785\n",
            "Epoch 7; Loss 0.023787; Train Acc 0.988456; Val Acc 0.974888\n",
            "Epoch 8; Loss 0.012587; Train Acc 0.988623; Val Acc 0.982063\n",
            "Epoch 9; Loss 0.012695; Train Acc 0.990798; Val Acc 0.981166\n",
            "Epoch 10; Loss 0.009592; Train Acc 0.994813; Val Acc 0.982960\n"
          ],
          "name": "stdout"
        }
      ]
    },
    {
      "cell_type": "markdown",
      "metadata": {
        "id": "nhQJ_h9rOEyb"
      },
      "source": [
        "The best model with highest training and validation accuracy was the fourth_model recording an accuracy of 0.995(train) and 0.983(val)."
      ]
    },
    {
      "cell_type": "markdown",
      "metadata": {
        "id": "v7DY56rKa91I"
      },
      "source": [
        "### Part (d) [2 pt]\n",
        "\n",
        "Before we deploy a machine learning model, we usually want to have a better understanding\n",
        "of how our model performs beyond its validation accuracy. An important metric to track is\n",
        "*how well our model performs in certain subsets of the data*.\n",
        "\n",
        "In particular, what is the model's error rate amongst data with negative labels?\n",
        "This is called the **false positive rate**.\n",
        "\n",
        "What about the model's error rate amongst data with positive labels?\n",
        "This is called the **false negative rate**.\n",
        "\n",
        "Report your final model's false positive and false negative rate across the\n",
        "validation set."
      ]
    },
    {
      "cell_type": "code",
      "metadata": {
        "colab": {
          "base_uri": "https://localhost:8080/"
        },
        "collapsed": true,
        "id": "7ggbQSdba91J",
        "outputId": "152c9219-d0bb-4050-9adf-912ce6a575bf"
      },
      "source": [
        "# Create a Dataset of only spam validation examples\n",
        "valid_spam = torchtext.legacy.data.Dataset(\n",
        "    [e for e in valid.examples if e.label == 1],\n",
        "    valid.fields)\n",
        "valid_spam_loader = torchtext.legacy.data.BucketIterator(valid_spam,\n",
        "                                           batch_size=32,\n",
        "                                           sort_key=lambda x: len(x.sms), # to minimize padding\n",
        "                                           sort_within_batch=True,        # sort within each batch\n",
        "                                           repeat=False)                  # repeat the iterator for many epochs\n",
        "\n",
        "# Create a Dataset of only non-spam validation examples\n",
        "valid_nospam = torchtext.legacy.data.Dataset(\n",
        "    [e for e in valid.examples if e.label == 0],\n",
        "    valid.fields)\n",
        "valid_nospam_loader = torchtext.legacy.data.BucketIterator(valid_nospam,\n",
        "                                           batch_size=32,\n",
        "                                           sort_key=lambda x: len(x.sms), # to minimize padding\n",
        "                                           sort_within_batch=True,        # sort within each batch\n",
        "                                           repeat=False)                  # repeat the iterator for many epochs\n",
        "\n",
        "false_pos_rate = 1 - get_accuracy(fourth_model, valid_nospam_loader)\n",
        "false_neg_rate = 1 - get_accuracy(fourth_model, valid_spam_loader)\n",
        "\n",
        "print(\"false positive rate: \", false_pos_rate)\n",
        "print(\"false negative rate: \", false_neg_rate)"
      ],
      "execution_count": 97,
      "outputs": [
        {
          "output_type": "stream",
          "text": [
            "false positive rate:  0.008298755186721962\n",
            "false negative rate:  0.08609271523178808\n"
          ],
          "name": "stdout"
        }
      ]
    },
    {
      "cell_type": "markdown",
      "metadata": {
        "id": "N1iRteb3a91O"
      },
      "source": [
        "### Part (e) [2 pt]\n",
        "\n",
        "The impact of a false positive vs a false negative can be drastically different.\n",
        "If our spam detection algorithm was deployed on your phone, what is the impact\n",
        "of a false positive on the phone's user? What is the impact of a false negative?"
      ]
    },
    {
      "cell_type": "markdown",
      "metadata": {
        "id": "n_4d_QgeP4Ve"
      },
      "source": [
        "- false positive: This would imply where a non-spam message is recieved, however classified as a spam. The impact of this would be significant since the message classified as spam could actually be an important message.\n",
        "\n",
        "- false negative: This would imply where a spam message is recieved, however classified as a non-spam. The impact of this would not be significant as false positive, since the reciever would just be getting an annoying message."
      ]
    },
    {
      "cell_type": "markdown",
      "metadata": {
        "id": "Gznefulsa91V"
      },
      "source": [
        "## Part 4. Evaluation [11 pt]\n",
        "\n",
        "### Part (a) [1 pt]\n",
        "\n",
        "Report the final test accuracy of your model."
      ]
    },
    {
      "cell_type": "code",
      "metadata": {
        "collapsed": true,
        "id": "D5L5D-A1a91W"
      },
      "source": [
        "test_iter = torchtext.legacy.data.BucketIterator(test,\n",
        "                                           batch_size=32,\n",
        "                                           sort_key=lambda x: len(x.sms), # to minimize padding\n",
        "                                           sort_within_batch=True,        # sort within each batch\n",
        "                                           repeat=False)                  # repeat the iterator for many epochs"
      ],
      "execution_count": 98,
      "outputs": []
    },
    {
      "cell_type": "code",
      "metadata": {
        "id": "IWcf03rySt-1"
      },
      "source": [
        "final_acc = get_accuracy(fourth_model, test_iter)"
      ],
      "execution_count": 99,
      "outputs": []
    },
    {
      "cell_type": "code",
      "metadata": {
        "colab": {
          "base_uri": "https://localhost:8080/"
        },
        "id": "SFiQzSyOS5f2",
        "outputId": "d6225946-751a-413d-884d-9fe3024e7306"
      },
      "source": [
        "print(\"Final test accuracy: \", final_acc)"
      ],
      "execution_count": 100,
      "outputs": [
        {
          "output_type": "stream",
          "text": [
            "Final test accuracy:  0.9793536804308797\n"
          ],
          "name": "stdout"
        }
      ]
    },
    {
      "cell_type": "markdown",
      "metadata": {
        "id": "6Hjmd8rca91Y"
      },
      "source": [
        "### Part (b) [3 pt]\n",
        "\n",
        "Report the false positive rate and false negative rate of your model across the test set."
      ]
    },
    {
      "cell_type": "code",
      "metadata": {
        "colab": {
          "base_uri": "https://localhost:8080/"
        },
        "collapsed": true,
        "id": "GFiAKztJa91Z",
        "outputId": "76dda8f3-deb1-42d0-e2e3-14c7c310b8e6"
      },
      "source": [
        "# Create a Dataset of only spam validation examples\n",
        "test_spam = torchtext.legacy.data.Dataset(\n",
        "    [e for e in test.examples if e.label == 1],\n",
        "    valid.fields)\n",
        "test_spam_loader = torchtext.legacy.data.BucketIterator(test_spam,\n",
        "                                           batch_size=32,\n",
        "                                           sort_key=lambda x: len(x.sms), # to minimize padding\n",
        "                                           sort_within_batch=True,        # sort within each batch\n",
        "                                           repeat=False)                  # repeat the iterator for many epochs\n",
        "\n",
        "# Create a Dataset of only non-spam validation examples\n",
        "test_nospam = torchtext.legacy.data.Dataset(\n",
        "    [e for e in test.examples if e.label == 0],\n",
        "    valid.fields)\n",
        "test_nospam_loader = torchtext.legacy.data.BucketIterator(test_nospam,\n",
        "                                           batch_size=32,\n",
        "                                           sort_key=lambda x: len(x.sms), # to minimize padding\n",
        "                                           sort_within_batch=True,        # sort within each batch\n",
        "                                           repeat=False)                  # repeat the iterator for many epochs\n",
        "\n",
        "false_pos_rate = 1 - get_accuracy(fourth_model, test_nospam_loader)\n",
        "false_neg_rate = 1 - get_accuracy(fourth_model, test_spam_loader)\n",
        "\n",
        "print(\"false positive rate: \", false_pos_rate)\n",
        "print(\"false negative rate: \", false_neg_rate)"
      ],
      "execution_count": 101,
      "outputs": [
        {
          "output_type": "stream",
          "text": [
            "false positive rate:  0.011494252873563204\n",
            "false negative rate:  0.06369426751592355\n"
          ],
          "name": "stdout"
        }
      ]
    },
    {
      "cell_type": "markdown",
      "metadata": {
        "id": "0jGHtQFpa91b"
      },
      "source": [
        "### Part (c) [3 pt]\n",
        "\n",
        "What is your model's prediction of the **probability** that\n",
        "the SMS message \"machine learning is sooo cool!\" is spam?\n",
        "\n",
        "Hint: To begin, use `text_field.vocab.stoi` to look up the index\n",
        "of each character in the vocabulary."
      ]
    },
    {
      "cell_type": "code",
      "metadata": {
        "colab": {
          "base_uri": "https://localhost:8080/"
        },
        "collapsed": true,
        "id": "h_2nSJq8a91b",
        "outputId": "c8067908-d28b-49db-876b-247c5e83049f"
      },
      "source": [
        "msg = \"machine learning is sooo cool!\"\n",
        "msg_arry = []\n",
        "\n",
        "for char in msg:\n",
        "  msg_arry.append(torch.tensor(text_field.vocab.stoi[char]))\n",
        "\n",
        "out = torch.stack(msg_arry)\n",
        "out.unsqueeze_(0)\n",
        "\n",
        "prob = F.softmax(fourth_model(out), dim=1)[0][1].item()\n",
        "\n",
        "print(\"My model's prediction of the probability that the SMS message is spam: \", prob)"
      ],
      "execution_count": 104,
      "outputs": [
        {
          "output_type": "stream",
          "text": [
            "My model's prediction of the probability that the SMS message is spam:  0.019493114203214645\n"
          ],
          "name": "stdout"
        }
      ]
    },
    {
      "cell_type": "markdown",
      "metadata": {
        "id": "QD1zgYJpa91f"
      },
      "source": [
        "### Part (d) [4 pt]\n",
        "\n",
        "Do you think detecting spam is an easy or difficult task?\n",
        "\n",
        "Since machine learning models are expensive to train and deploy, it is very\n",
        "important to compare our models against baseline models: a simple\n",
        "model that is easy to build and inexpensive to run that we can compare our\n",
        "recurrent neural network model against.\n",
        "\n",
        "Explain how you might build a simple baseline model. This baseline model\n",
        "can be a simple neural network (with very few weights), a hand-written algorithm,\n",
        "or any other strategy that is easy to build and test.\n",
        "\n",
        "**Do not actually build a baseline model. Instead, provide instructions on\n",
        "how to build it.**"
      ]
    },
    {
      "cell_type": "markdown",
      "metadata": {
        "id": "c9aJKe5XWJU8"
      },
      "source": [
        "I think detecting spam is an easy task compared to other machine learning tasks such as generating a caption for random photos.\n",
        "\n",
        "A Naive Bayes Classifiers could be used as a baseline model, where P(class|data) = (P(data|class)*P(class))/P(data). Based on the number of occurances of each word in a ham/spam message, we could classify the message as more likely to be ham/spam message by comparing it to the number of occurances of a specific word in the whole ham/spam message dataset. For example, if we are looking at the word \"please\" in the message, we see if the word occurs more in spam or ham message in the dataset. Then, if it is likely to appear in spam message, we add that probability computed by the equation P(class|data) = (P(data|class)*P(class))/P(data) to probability_spam, and vice versa. Finally, we compare the probability_spam to probability_ham and choose the greater one."
      ]
    }
  ]
}